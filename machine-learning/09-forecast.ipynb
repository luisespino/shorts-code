{
 "cells": [
  {
   "cell_type": "markdown",
   "metadata": {
    "id": "ZhzNZW_rYXAE"
   },
   "source": [
    "Forecast"
   ]
  },
  {
   "cell_type": "code",
   "execution_count": null,
   "metadata": {
    "colab": {
     "base_uri": "https://localhost:8080/"
    },
    "executionInfo": {
     "elapsed": 47,
     "status": "ok",
     "timestamp": 1758424918328,
     "user": {
      "displayName": "Luis Espino",
      "userId": "17323685463324771918"
     },
     "user_tz": 360
    },
    "id": "fi-4Aj0YYRiH",
    "outputId": "9c447df2-4319-4526-d9e2-12eae8c03641"
   },
   "outputs": [
    {
     "name": "stdout",
     "output_type": "stream",
     "text": [
      "Forecast de 10: [6.2]\n"
     ]
    }
   ],
   "source": [
    "\n",
    "#### REGRESIÓN LINEAL Y FORECAST #####\n",
    "\n",
    "import numpy as np\n",
    "from sklearn import linear_model\n",
    "import matplotlib.pyplot as plt\n",
    "\n",
    "# ingresar datos de entrenamiento\n",
    "x = np.array([0, 1, 2, 3, 4])\n",
    "x = x.reshape(-1, 1)\n",
    "y = np.array([1, 0, 2, 0, 4])\n",
    "\n",
    "# entrenar el modelo y predecir\n",
    "model = linear_model.LinearRegression()\n",
    "model.fit(x,y)\n",
    "\n",
    "y_pred = model.predict([[10]])\n",
    "\n",
    "print(f\"Forecast de 10: {y_pred}\")\n"
   ]
  },
  {
   "cell_type": "code",
   "execution_count": null,
   "metadata": {
    "colab": {
     "base_uri": "https://localhost:8080/",
     "height": 199
    },
    "executionInfo": {
     "elapsed": 99,
     "status": "ok",
     "timestamp": 1758424937072,
     "user": {
      "displayName": "Luis Espino",
      "userId": "17323685463324771918"
     },
     "user_tz": 360
    },
    "id": "5o8UI_LHhVOZ",
    "outputId": "11a693ce-e39e-4719-c12d-92b523e41180"
   },
   "outputs": [
    {
     "data": {
      "image/png": "[encoded data removed]",
      "text/plain": [
       "<Figure size 380x180 with 1 Axes>"
      ]
     },
     "metadata": {},
     "output_type": "display_data"
    }
   ],
   "source": [
    "# extrapolación\n",
    "xf = np.linspace(x.min(), 10, 100)\n",
    "xf = xf.reshape(-1,1)\n",
    "y_pred = model.predict(xf)\n",
    "\n",
    "# graficar datos y predicción\n",
    "plt.figure(figsize = (3.8, 1.8))\n",
    "plt.scatter(x, y,  color = 'black')\n",
    "plt.plot(xf, y_pred, color = 'blue',\n",
    "         linewidth = 2)\n",
    "plt.show()\n"
   ]
  }
 ],
 "metadata": {
  "colab": {
   "authorship_tag": "ABX9TyMU2e4sdczBP0+gIY5eHKUW",
   "provenance": []
  },
  "kernelspec": {
   "display_name": "Python 3",
   "name": "python3"
  },
  "language_info": {
   "name": "python"
  }
 },
 "nbformat": 4,
 "nbformat_minor": 0
}
