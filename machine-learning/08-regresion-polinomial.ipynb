{
 "cells": [
  {
   "cell_type": "markdown",
   "metadata": {
    "id": "ZhzNZW_rYXAE"
   },
   "source": [
    "Regresión polinomial"
   ]
  },
  {
   "cell_type": "code",
   "execution_count": 1,
   "metadata": {
    "colab": {
     "base_uri": "https://localhost:8080/",
     "height": 199
    },
    "executionInfo": {
     "elapsed": 3069,
     "status": "ok",
     "timestamp": 1758443073921,
     "user": {
      "displayName": "Luis Espino",
      "userId": "17323685463324771918"
     },
     "user_tz": 360
    },
    "id": "pfEbfSLRQgUi",
    "outputId": "8c60a173-7a01-4bd5-ac82-eafdcd4d6827"
   },
   "outputs": [
    {
     "data": {
      "image/png": "[encoded data removed]",
      "text/plain": [
       "<Figure size 380x180 with 1 Axes>"
      ]
     },
     "metadata": {},
     "output_type": "display_data"
    }
   ],
   "source": [
    "######## REGRESIÓN POLINOMIAL #########\n",
    "\n",
    "import numpy as np\n",
    "from sklearn import linear_model\n",
    "import matplotlib.pyplot as plt\n",
    "from sklearn.preprocessing \\\n",
    "  import PolynomialFeatures\n",
    "\n",
    "# ingresar datos de entrenamiento\n",
    "x = np.array([0, 1, 2, 3, 4])\n",
    "x = x.reshape(-1, 1)\n",
    "y = np.array([1, 0, 2, 0, 4])\n",
    "\n",
    "# características polinomiales\n",
    "xfeat = PolynomialFeatures(degree = 3)\n",
    "xpoly = xfeat.fit_transform(x)\n",
    "\n",
    "# entrenar el modelo y predecir\n",
    "model = linear_model.LinearRegression()\n",
    "model.fit(xpoly,y)\n",
    "\n",
    "# expansión de puntos a grano fino\n",
    "xf = np.linspace(x.min(), x.max(), 100)\n",
    "xf = xf.reshape(-1,1)\n",
    "xfinepoly = xfeat.transform(xf)\n",
    "y_pred = model.predict(xfinepoly)\n",
    "\n",
    "# graficar datos y predicción\n",
    "plt.figure(figsize = (3.8, 1.8))\n",
    "plt.scatter(x, y,  color = 'black')\n",
    "plt.plot(xf, y_pred, color = 'blue',\n",
    "         linewidth = 2)\n",
    "plt.show()"
   ]
  }
 ],
 "metadata": {
  "colab": {
   "authorship_tag": "ABX9TyOsiqrw61PNLxSKMUogxfIr",
   "provenance": []
  },
  "kernelspec": {
   "display_name": "Python 3",
   "name": "python3"
  },
  "language_info": {
   "name": "python"
  }
 },
 "nbformat": 4,
 "nbformat_minor": 0
}
